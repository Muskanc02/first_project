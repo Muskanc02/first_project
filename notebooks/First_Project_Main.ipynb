{
 "cells": [
  {
   "cell_type": "code",
   "execution_count": null,
   "id": "9196477b-89db-44b8-95c7-02b0537f53f9",
   "metadata": {},
   "outputs": [],
   "source": [
    "import pandas as pd\n",
    "import numpy as np\n",
    "import matplotlib.pyplot as plt\n",
    "import seaborn as sns"
   ]
  },
  {
   "cell_type": "code",
   "execution_count": null,
   "id": "4af67817-bacf-4882-858c-e2272036b7ac",
   "metadata": {},
   "outputs": [],
   "source": [
    "import functions as f\n",
    "import pandas as pd\n",
    "\n",
    "url_1 = '../data/raw/SYB67_176_202411_Tourist-Visitors Arrival and Expenditure.csv'\n",
    "df_1 = pd.read_csv(url_1)\n",
    "\n",
    "url_2 = '../data/raw/SYB67_285_202411_Research and Development Expenditure and Staff.csv'\n",
    "df_2 = pd.read_csv(url_2)\n",
    "\n",
    "url_3 = '../data/raw/SYB67_328_202411_Intentional homicides and other crimes.csv'\n",
    "df_3 = pd.read_csv(url_3)\n",
    "\n",
    "url_4 = '../data/raw/SYB67_329_202411_Labour Force and Unemployment.csv'\n",
    "df_4 = pd.read_csv(url_4)\n",
    "\n",
    "#Function to clean rows and columns\n",
    "df_1 = f.clean_row_column(df_1,url_1)\n",
    "df_2 = f.clean_row_column(df_2,url_2)\n",
    "df_3 = f.clean_row_column(df_3,url_3)\n",
    "df_4 = f.clean_row_column(df_4,url_4)\n",
    "\n",
    "#Drop irrelevant column.\n",
    "df_1 = df_1.drop(columns='Tourism arrivals series type footnote')\n",
    "\n",
    "#Function to insert column type\n",
    "df_1 = f.insert_column(df_1,\"Type\",\"Tourism\")\n",
    "df_2 = f.insert_column(df_2,\"Type\",\"R&D\")\n",
    "df_3 = f.insert_column(df_3,\"Type\",\"Crime\")\n",
    "df_4 = f.insert_column(df_4,\"Type\",\"Labour & Unemployment\")\n",
    "\n",
    "#Concat all the dataframes.\n",
    "df = pd.concat([df_1,df_2,df_3,df_4], axis=0)\n",
    "\n",
    "#Fill N/A values.\n",
    "df = df.fillna(\"N/A\")\n",
    "\n",
    "#Format column names\n",
    "df.rename(columns={ col: col.rstrip().replace(\" \", \"_\").lower() for col in df.columns}, inplace=True)\n",
    "\n",
    "#Drop irrelevant columns\n",
    "df = df.drop(columns=['source','tourism_arrivals_series_type_footnote'])\n",
    "\n",
    "# #Replace N/A values for tourism_arrivals_series_type column\n",
    "df.loc[df['type'] == 'Tourism', 'tourism_arrivals_series_type'] = df.loc[df['type'] == 'Tourism', 'tourism_arrivals_series_type'].replace(\"N/A\", \"TE\")\n",
    "\n",
    "#Convert the data type of value column to float as well check if value is string and then remove the commas also\n",
    "df['value'] = df['value'].astype(str).str.replace(',', '').astype(float)\n",
    "\n",
    "# Apply the function to create a new column 'Continent'\n",
    "df['continent'] = df['region/country/area'].apply(f.get_continent)\n",
    "\n",
    "# Display the DataFrame with the new column\n",
    "df\n",
    "\n"
   ]
  },
  {
   "cell_type": "markdown",
   "id": "968dad47-f6da-4491-95fa-7e3272fbb019",
   "metadata": {
    "jp-MarkdownHeadingCollapsed": true
   },
   "source": [
    "#### Tourism Analysis"
   ]
  },
  {
   "cell_type": "code",
   "execution_count": null,
   "id": "ead71d54-3b88-46e9-81ea-144074b025c5",
   "metadata": {},
   "outputs": [],
   "source": [
    "# Size of data for type as Tourism\n",
    "df_tourism=df[df[\"type\"] == \"Tourism\"]\n",
    "display(df_tourism)\n",
    "\n"
   ]
  },
  {
   "cell_type": "code",
   "execution_count": null,
   "id": "ae58949c-7494-42f7-acbf-0f68eaf8fd78",
   "metadata": {},
   "outputs": [],
   "source": [
    "# Size of data for type as Tourism and tourism_arrivals_series_type as TE\n",
    "df_tourism_Exp = df[(df[\"type\"] == \"Tourism\") & (df[\"tourism_arrivals_series_type\"] == 'TE')]\n",
    "display(df_tourism_Exp)\n"
   ]
  },
  {
   "cell_type": "markdown",
   "id": "0e03c8bd-fe01-4bbb-ad36-96c5e136d893",
   "metadata": {},
   "source": [
    "###  Series International Tourist Arrivals\n",
    "TF: International tourist arrivals at frontiers (excluding same-day visitors);\n",
    "VF: International visitor arrivals at frontiers (tourists and same-day visitors);\n",
    "THS: International tourist arrivals at hotels and similar establishments;\n",
    "TCE: International tourist arrivals at collective tourism establishments;\n",
    "NHS: Nights of international tourists in hotels and similar establishments;\n",
    "NCE: Nights of international tourists in collective tourism establishments."
   ]
  },
  {
   "cell_type": "code",
   "execution_count": null,
   "id": "1eb70954-365d-49d0-9b62-b15b917249d0",
   "metadata": {},
   "outputs": [],
   "source": [
    "# group the data using tourism_arrivals_series_type to see different categories\n",
    "df_tour=df_tourism.groupby(\"tourism_arrivals_series_type\")[\"value\"].sum()\n",
    "display(df_tour)\n",
    "#tf_value = df_tour.loc[df_tour['tourism_arrivals_series_type'] == 'TF', 'value'].sum()\n",
    "print(f\"The value for Tourism Expenditure in all continents is {df_tour['TE']}(USD Million)\" )\n",
    "print(f\"The value for Tourists/Visitors Arrival in all continents is {df_tour['TF']}( thousands)\" )\n"
   ]
  },
  {
   "cell_type": "code",
   "execution_count": null,
   "id": "8d323d28-3a8b-4bd8-b1f9-1ffc365d84e1",
   "metadata": {},
   "outputs": [],
   "source": [
    "#create bar chart for same\n",
    "import matplotlib.pyplot as plt\n",
    "\n",
    "# Plotting a bar chart\n",
    "df_tour.plot(kind='bar', color='purple', figsize=(10, 6))\n",
    "\n",
    "# Adding labels and title\n",
    "plt.title('tourism_arrivals_series_type')\n",
    "plt.xlabel('Tourism Series Type')\n",
    "plt.ylabel('Count of Values')\n",
    "plt.xticks(rotation=45)  # Rotate x labels for better visibility\n",
    "\n",
    "# Show the plot\n",
    "plt.tight_layout()  # Adjust layout to avoid overlapping labels\n",
    "plt.show()"
   ]
  },
  {
   "cell_type": "code",
   "execution_count": null,
   "id": "a0a11058-ecb0-4f8f-9b8c-d77106851c97",
   "metadata": {},
   "outputs": [],
   "source": [
    "# group data by continent and by tourist series\n",
    "df_grouped = df_tourism.groupby(['continent', 'tourism_arrivals_series_type'])['value'].sum().reset_index()\n",
    "df_grouped_sorted = df_grouped.sort_values(by='value', ascending=False)\n",
    "\n",
    "print(df_grouped_sorted)"
   ]
  },
  {
   "cell_type": "code",
   "execution_count": null,
   "id": "e3f64d63-1924-4e1f-a61d-ddc29f35d0a0",
   "metadata": {},
   "outputs": [],
   "source": [
    "# Pivot the table to create a matrix for the heatmap\n",
    "df_pivot = df_grouped.pivot(index='continent', columns='tourism_arrivals_series_type', values='value')\n",
    "\n",
    "# Create a heatmap\n",
    "plt.figure(figsize=(12, 8))\n",
    "sns.heatmap(df_pivot, annot=False, fmt=\".1f\", cmap='Spectral', linewidths=0.3)\n",
    "\n",
    "# Add title and labels\n",
    "plt.title('Heatmap of Sum of Values for Tourism Series by continent')\n",
    "plt.xlabel('Tourism Series Type')\n",
    "plt.ylabel('Region/Country')\n",
    "\n",
    "# Show the plot\n",
    "plt.tight_layout()\n",
    "plt.show()"
   ]
  },
  {
   "cell_type": "code",
   "execution_count": null,
   "id": "88297579-2f63-4393-b1fb-18bd1362a091",
   "metadata": {},
   "outputs": [],
   "source": [
    "# Size of data for type as Tourism and tourism_arrivals_series_type as TE\n",
    "df_tourism_europe = df_tourism[(df_tourism[\"continent\"] == \"Europe\")]\n",
    "display(df_tourism_europe)"
   ]
  },
  {
   "cell_type": "code",
   "execution_count": null,
   "id": "f89b3585-0851-4653-8020-f0e381985041",
   "metadata": {},
   "outputs": [],
   "source": [
    "df_time_series = df_tourism_europe.groupby([\"year\", \"tourism_arrivals_series_type\"])[\"value\"].sum().reset_index()\n"
   ]
  },
  {
   "cell_type": "code",
   "execution_count": null,
   "id": "c3ce060b-a279-4d0b-b7aa-dd6f98c512c3",
   "metadata": {},
   "outputs": [],
   "source": [
    "plt.figure(figsize=(10, 5))\n",
    "sns.lineplot(data=df_time_series, x=\"year\", y=\"value\", hue=\"tourism_arrivals_series_type\", marker=\"o\")\n",
    "\n",
    "plt.xlabel(\"Year\")\n",
    "plt.ylabel(\"Total Tourist Arrivals\")\n",
    "plt.title(\"Tourism Trends in Europe Over Time\")\n",
    "plt.legend(title=\"Tourism Series Type\")\n",
    "plt.show()"
   ]
  },
  {
   "cell_type": "code",
   "execution_count": null,
   "id": "d6a92044-c7a0-41dd-9016-a322837c400c",
   "metadata": {},
   "outputs": [],
   "source": [
    "df_tourism_europe_country=df_tourism_europe.groupby(['region/country/area', 'tourism_arrivals_series_type'])['value'].sum().reset_index()\n",
    "df_tourism_europe_country_TF = df_tourism_europe_country[df_tourism_europe_country[\"tourism_arrivals_series_type\"] == \"TF\"]\n",
    "df_grouped_sorted = df_tourism_europe_country_TF.sort_values(by='value', ascending=False)\n",
    "\n",
    "print(df_grouped_sorted)"
   ]
  },
  {
   "cell_type": "code",
   "execution_count": null,
   "id": "a4ee8068-0011-42cf-a937-8ef6c857aa73",
   "metadata": {},
   "outputs": [],
   "source": [
    "df_pie = df_grouped_sorted.head(10)\n",
    "# Set figure size\n",
    "plt.figure(figsize=(10, 10))\n",
    "\n",
    "# Create pie chart\n",
    "plt.pie(df_pie[\"value\"], labels=df_pie[\"region/country/area\"], autopct='%1.1f%%', startangle=140, \n",
    "        colors=plt.cm.Paired.colors, wedgeprops={'edgecolor': 'black'})\n",
    "\n",
    "# Set title\n",
    "plt.title(\"Tourism Arrivals in European Countries (TF)\")\n",
    "\n",
    "# Show the pie chart\n",
    "plt.show()"
   ]
  },
  {
   "cell_type": "code",
   "execution_count": null,
   "id": "c192dc95-31b9-4cb6-83d6-8709df1986ce",
   "metadata": {},
   "outputs": [],
   "source": []
  }
 ],
 "metadata": {
  "kernelspec": {
   "display_name": "firstproject_env",
   "language": "python",
   "name": "firstproject_env"
  },
  "language_info": {
   "codemirror_mode": {
    "name": "ipython",
    "version": 3
   },
   "file_extension": ".py",
   "mimetype": "text/x-python",
   "name": "python",
   "nbconvert_exporter": "python",
   "pygments_lexer": "ipython3",
   "version": "3.12.7"
  }
 },
 "nbformat": 4,
 "nbformat_minor": 5
}
