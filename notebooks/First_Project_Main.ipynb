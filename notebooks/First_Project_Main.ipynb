{
 "cells": [
  {
   "cell_type": "code",
   "execution_count": null,
   "id": "1eeb260d-c681-4ff2-bd04-657ff7348d27",
   "metadata": {},
   "outputs": [],
   "source": [
    "import functions as f\n",
    "import pandas as pd\n",
    "\n",
    "url_1 = '../data/raw/SYB67_176_202411_Tourist-Visitors Arrival and Expenditure.csv'\n",
    "df_1 = pd.read_csv(url_1)\n",
    "\n",
    "url_2 = '../data/raw/SYB67_285_202411_Research and Development Expenditure and Staff.csv'\n",
    "df_2 = pd.read_csv(url_2)\n",
    "\n",
    "url_3 = '../data/raw/SYB67_328_202411_Intentional homicides and other crimes.csv'\n",
    "df_3 = pd.read_csv(url_3)\n",
    "\n",
    "url_4 = '../data/raw/SYB67_329_202411_Labour Force and Unemployment.csv'\n",
    "df_4 = pd.read_csv(url_4)\n",
    "\n",
    "#Function to clean rows and columns\n",
    "df_1 = f.clean_row_column(df_1,url_1)\n",
    "df_2 = f.clean_row_column(df_2,url_2)\n",
    "df_3 = f.clean_row_column(df_3,url_3)\n",
    "df_4 = f.clean_row_column(df_4,url_4)\n",
    "\n",
    "#Function to insert column type\n",
    "df_1 = f.insert_column(df_1,\"Type\",\"Tourism\")\n",
    "df_2 = f.insert_column(df_2,\"Type\",\"R&D\")\n",
    "df_3 = f.insert_column(df_3,\"Type\",\"Crime\")\n",
    "df_4 = f.insert_column(df_4,\"Type\",\"Labour & Unemployment\")\n",
    "\n",
    "#Concat all the dataframes.\n",
    "df = pd.concat([df_1,df_2,df_3,df_4], axis=0)\n",
    "\n",
    "#Fill N/A values.\n",
    "df = df.fillna(\"N/A\")\n",
    "\n",
    "#Format column names\n",
    "df = df.rename(columns={col: col.rstrip().replace(\" \", \"_\").lower() for col in df.columns})\n",
    "\n",
    "#Drop irrelevant columns\n",
    "df = df.drop(columns=['source','tourism_arrivals_series_type_footnote'])\n",
    "\n",
    "#Replace N/A values for tourism_arrivals_series_type column\n",
    "#df['tourism_arrivals_series_type'] = df['tourism_arrivals_series_type'].replace(\"N/A\",\"TE\")\n",
    "# #Replace N/A values for tourism_arrivals_series_type column\n",
    "df.loc[df['type'] == 'Tourism', 'tourism_arrivals_series_type'] = df.loc[df['type'] == 'Tourism', 'tourism_arrivals_series_type'].replace(\"N/A\", \"TE\")\n",
    "\n",
    "#Replacing strings to float in value column\n",
    "df['value']=df['value'].astype(str).str.replace(',','').astype(float)\n",
    "\n",
    "# Apply the function to create a new column 'Continent'\n",
    "df['continent'] = df['region/country/area'].apply(f.get_continent)\n",
    "df\n"
   ]
  },
  {
   "cell_type": "code",
   "execution_count": null,
   "id": "3d18c943-3d2d-40a2-8123-8a627b58ce0f",
   "metadata": {},
   "outputs": [],
   "source": [
    "ue = ['Unemployment rate - Male', 'Unemployment rate - Female']\n",
    "df_le = df[(df['type']== 'Labour & Unemployment') & (df['series'].isin(ue)) ]\n",
    "df_le\n",
    "\n"
   ]
  },
  {
   "cell_type": "markdown",
   "id": "96c74272-b437-45f9-9dd8-824cf0b81773",
   "metadata": {},
   "source": [
    "### HIGHEST UNEMPLOYEMENT RATE BY GENNDER & CONTINENT"
   ]
  },
  {
   "cell_type": "code",
   "execution_count": null,
   "id": "89a50f28-4c95-427c-b0f3-a9f7e276317e",
   "metadata": {},
   "outputs": [],
   "source": [
    "import matplotlib.pyplot as plt\n",
    "gender_unemployment = df_le.groupby(['continent', 'series'])['value'].mean().unstack()\n",
    "print(gender_unemployment)\n",
    "\n",
    "# unStacked bar chart using actual unemployment rates\n",
    "gender_unemployment.plot(kind='bar', stacked=False, color=['blue', 'red'])\n",
    "\n",
    "plt.title('Unemployment Rate by Gender and Continent')\n",
    "plt.xlabel('Continent')\n",
    "plt.ylabel('Unemployment Rate (%)')\n",
    "plt.legend(title='Gender')\n",
    "plt.show()"
   ]
  },
  {
   "cell_type": "markdown",
   "id": "5c7a0154-7d86-4081-ac0f-4917088d7959",
   "metadata": {},
   "source": [
    "### AFRICAN COUNTRIES WITH THE HIGHEST UNEMPLOYMENT RATE"
   ]
  },
  {
   "cell_type": "code",
   "execution_count": null,
   "id": "a9779d09-9e5c-4c65-a509-64e78b55a7b1",
   "metadata": {},
   "outputs": [],
   "source": [
    "# Filter dataset to include only African countries\n",
    "africa_df = df_le[df_le['continent'] == 'Africa']\n",
    "\n",
    "# Group by country and unemployment series, then find the mean unemployment rate\n",
    "africa_unemployment = africa_df.groupby(['region/country/area', 'series'])['value'].mean().unstack()\n",
    "\n",
    "# Sort countries by highest total unemployment rate (if both male and female exist)\n",
    "africa_unemployment['Total Unemployment'] = africa_unemployment.mean(axis=1)\n",
    "top_countries = africa_unemployment.sort_values(by='Total Unemployment', ascending=False)\n",
    "(top_countries.head(10))\n",
    "\n",
    "# top 10 African countries with highest unemployment rates\n",
    "top_countries.head(10).drop(columns=['Total Unemployment']).plot(kind='bar', stacked=True, color=['purple', 'pink'])\n",
    "\n",
    "plt.title('Top 10 African Countries with Highest Unemployment Rates')\n",
    "plt.xlabel('Country')\n",
    "plt.ylabel('Unemployment Rate (%)')\n",
    "plt.legend(title='Gender')\n",
    "plt.xticks(rotation=45)\n",
    "plt.show()"
   ]
  },
  {
   "cell_type": "code",
   "execution_count": null,
   "id": "23fdd04d-512a-4faf-b296-10b6e1fe61ad",
   "metadata": {},
   "outputs": [],
   "source": [
    "lf = ['Labour force participation - Total'] #'Labour force participation - Female']\n",
    "df_le = df[(df['type']== 'Labour & Unemployment') & (df['series'].isin(lf))]\n",
    "df_le"
   ]
  },
  {
   "cell_type": "markdown",
   "id": "0010697c-baee-46cd-a256-cc1d6c2700da",
   "metadata": {},
   "source": [
    "### CONTINENT WITH THE HIGHEST LABOUR FORCE PARTICIPATION"
   ]
  },
  {
   "cell_type": "code",
   "execution_count": null,
   "id": "9cb9d5bc-d5a2-4e97-b27e-a007a5f0bec7",
   "metadata": {},
   "outputs": [],
   "source": [
    "\n",
    "employed = df_le.groupby(['continent', 'series'])['value'].mean().unstack()\n",
    "print(employed)\n",
    "\n",
    "# unStacked bar chart using actual unemployment rates\n",
    "employed.plot(kind='bar', stacked=False, color=['red'])\n",
    "\n",
    "plt.title('Labour force participation Rate by Continent')\n",
    "plt.xlabel('Continent')\n",
    "plt.ylabel('Employment Rate (%)')\n",
    "plt.legend(title='')\n",
    "plt.show()"
   ]
  },
  {
   "cell_type": "markdown",
   "id": "4dd1d86b-24e3-4044-8670-55de313042f5",
   "metadata": {},
   "source": [
    "### OCEANIAN COUNTRIES WITH THE HIGHEST LABOUR FORCE PARTICIPATION RATE"
   ]
  },
  {
   "cell_type": "code",
   "execution_count": null,
   "id": "49530ee3-25b9-461c-94fc-0a75a0292d95",
   "metadata": {},
   "outputs": [],
   "source": [
    "# Filter dataset to include only African countries\n",
    "oceania_df = df_le[df_le['continent'] == 'Oceania']\n",
    "\n",
    "# Group by country and labour force participation series, then find the mean rate\n",
    "oceania_labour = oceania_df.groupby(['region/country/area', 'series'])['value'].mean().unstack()\n",
    "\n",
    "# Sort countries by highest labour force participation rate\n",
    "top_countries_labour = oceania_labour.sort_values(by='Labour force participation - Total', ascending=False).head(10)\n",
    "print(top_countries_labour)\n",
    "\n",
    "top_countries_labour.head(10).plot(kind='bar', color='blue', legend=False)\n",
    "plt.title('Oceania countries with highest labor participation rate')\n",
    "plt.xlabel('country')\n",
    "plt.ylabel('Labour employment Rate (%)')\n",
    "#plt.legend(title=['labour force participation oceania'])\n",
    "plt.xticks(rotation=45)\n",
    "plt.show()\n"
   ]
  }
 ],
 "metadata": {
  "kernelspec": {
   "display_name": "project1",
   "language": "python",
   "name": "project1"
  },
  "language_info": {
   "codemirror_mode": {
    "name": "ipython",
    "version": 3
   },
   "file_extension": ".py",
   "mimetype": "text/x-python",
   "name": "python",
   "nbconvert_exporter": "python",
   "pygments_lexer": "ipython3",
   "version": "3.12.7"
  }
 },
 "nbformat": 4,
 "nbformat_minor": 5
}
